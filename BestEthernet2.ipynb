{
 "cells": [
  {
   "cell_type": "markdown",
   "metadata": {},
   "source": [
    "# BestEthernet\n",
    "\n",
    "BestEthernetは、Pythonを使用してイーサネット接続の速度を測定し、最も高速な接続を自動的に選択するツールです。USBテザリングを有効にし、利用可能なイーサネット接続の中から最速のものを選択してアクティブにします。\n",
    "\n",
    "## 機能\n",
    "\n",
    "- USBテザリングの有効化\n",
    "- 利用可能なイーサネット接続のリストアップ\n",
    "- 各イーサネット接続のダウンロードおよびアップロード速度の測定\n",
    "- 最速のイーサネット接続を自動的に選択してアクティブにする\n",
    "- 速度測定結果のログ記録"
   ]
  },
  {
   "cell_type": "code",
   "execution_count": 3,
   "metadata": {},
   "outputs": [
    {
     "name": "stdout",
     "output_type": "stream",
     "text": [
      "イーサネット一覧:\n",
      " \n",
      "Name   Status InterfaceDescription              \n",
      "----   ------ --------------------              \n",
      "hotel  Up     Realtek PCIe GbE Family Controller\n",
      "イーサネット Up     Remote NDIS Compatible Device #2  \n",
      "\n",
      "\n",
      "\n",
      "ダウンロード速度: 0.1 Mbps, アップロード速度: 0.8 Mbps\n",
      "2024-03-02 20:06:47: イーサネットに更新しました。ダウンロード速度: 0.1 Mbps, アップロード速度: 0.8 Mbps\n",
      "\n"
     ]
    }
   ],
   "source": []
  },
  {
   "cell_type": "code",
   "execution_count": 8,
   "metadata": {},
   "outputs": [],
   "source": [
    "import subprocess\n",
    "\n",
    "def enable_usb_tethering(adb_path):\n",
    "    subprocess.run([adb_path, \"shell\", \"svc\", \"wifi\", \"disable\"], capture_output=True)\n",
    "    subprocess.run([adb_path, \"shell\", \"svc\", \"data\", \"enable\"], capture_output=True)\n",
    "    subprocess.run([adb_path, \"shell\", \"service call connectivity 34 i32 1\"], capture_output=True)\n",
    "\n",
    "def update_main_ethernet(interface_list):\n",
    "    if fastest_interface:\n",
    "        print(f\"最速のインターフェースは '{fastest_interface}' です。このインターフェースをアクティブにします。\")\n",
    "        # ここで最速のインターフェースをアクティブにする処理を追加します。\n",
    "        # Windowsの場合、PowerShellコマンドを使用することが考えられます。\n",
    "        subprocess.run([\"powershell\", \"-Command\", f\"Enable-NetAdapter -Name '{fastest_interface}'\"], capture_output=True)\n",
    "        \n",
    "\n",
    "adb_path = r\".\\..\\AndroidDebugTools\\platform-tools\\adb.exe\"\n",
    "\n",
    "enable_usb_tethering(adb_path)"
   ]
  },
  {
   "cell_type": "markdown",
   "metadata": {},
   "source": [
    "# 2"
   ]
  },
  {
   "cell_type": "code",
   "execution_count": 9,
   "metadata": {},
   "outputs": [
    {
     "name": "stdout",
     "output_type": "stream",
     "text": [
      "全てのイーサネットインターフェース: ['hotel', 'router', 'VPN - VPN Client', 'iPhone']\n",
      "hotelを有効にしました。\n",
      "routerを有効にしました。\n",
      "VPN - VPN Clientを有効にしました。\n",
      "iPhoneを有効にしました。\n"
     ]
    }
   ],
   "source": [
    "import subprocess\n",
    "\n",
    "def get_ethernet_interfaces():\n",
    "    # すべてのネットワークアダプタを取得\n",
    "    result = subprocess.run([\"powershell\", \"-Command\", \"Get-NetAdapter | Select-Object -ExpandProperty Name\"], capture_output=True, text=True)\n",
    "    interfaces = result.stdout.strip().split('\\n')\n",
    "    return interfaces\n",
    "\n",
    "def enable_all_ethernet_interfaces(interfaces):\n",
    "    for interface in interfaces:\n",
    "        # すべてのインターフェースを有効にする\n",
    "        subprocess.run([\"powershell\", \"-Command\", f\"Enable-NetAdapter -Name \\\"{interface}\\\" -Confirm:$false\"], capture_output=True, text=True)\n",
    "        print(f\"{interface}を有効にしました。\")\n",
    "\n",
    "def main():\n",
    "    interfaces = get_ethernet_interfaces()\n",
    "    print(\"全てのイーサネットインターフェース:\", interfaces)\n",
    "    enable_all_ethernet_interfaces(interfaces)\n",
    "\n",
    "if __name__ == \"__main__\":\n",
    "    main()"
   ]
  },
  {
   "cell_type": "code",
   "execution_count": 13,
   "metadata": {},
   "outputs": [
    {
     "name": "stdout",
     "output_type": "stream",
     "text": [
      "利用可能なイーサネットインターフェース: ['hotel', 'iPhone']\n",
      "hotelを有効にしました。\n",
      "10秒間停止しています...\n",
      "測定中\n",
      "ダウンロード速度: 24.1 Mbps, アップロード速度: 12.0 Mbps\n",
      "2024-03-02 21:59:22: hotelに更新しました。ダウンロード速度: 24.1 Mbps, アップロード速度: 12.0 Mbps\n",
      "\n",
      "hotelを無効にしました。\n",
      "iPhoneを有効にしました。\n",
      "10秒間停止しています...\n",
      "測定中\n",
      "ダウンロード速度: 24.9 Mbps, アップロード速度: 11.8 Mbps\n",
      "2024-03-02 21:59:57: iPhoneに更新しました。ダウンロード速度: 24.9 Mbps, アップロード速度: 11.8 Mbps\n",
      "\n",
      "iPhoneを無効にしました。\n",
      "hotelを有効にしました。\n",
      "iPhoneを有効にしました。\n"
     ]
    }
   ],
   "source": [
    "import subprocess\n",
    "import speedtest\n",
    "import datetime\n",
    "import csv\n",
    "import time\n",
    "\n",
    "def get_ethernet_interfaces():\n",
    "    result = subprocess.run([\"powershell\", \"-Command\", \"Get-NetAdapter | Where-Object {$_.Status -eq 'Up'} | Select-Object -ExpandProperty Name\"], capture_output=True, text=True)\n",
    "    interfaces = result.stdout.strip().split('\\n')\n",
    "    return interfaces\n",
    "\n",
    "\n",
    "def enable_all_ethernet_interfaces(interfaces):\n",
    "    \"\"\"\n",
    "    与えられたすべてのイーサネットインターフェースを有効にします。\n",
    "    \"\"\"\n",
    "    for interface in interfaces:\n",
    "        subprocess.run([\"powershell\", \"-Command\", f\"Enable-NetAdapter -Name \\\"{interface}\\\" -Confirm:$false\"], capture_output=True, text=True)\n",
    "        print(f\"{interface}を有効にしました。\")\n",
    "\n",
    "def switch_ethernet_interface(interface_name, enable=True):\n",
    "    \"\"\"\n",
    "    指定されたイーサネットインターフェースを有効または無効にします。\n",
    "    enableパラメータがTrueの場合は有効に、Falseの場合は無効にします。\n",
    "    \"\"\"\n",
    "    action = \"Enable-NetAdapter\" if enable else \"Disable-NetAdapter\"\n",
    "    subprocess.run([\"powershell\", \"-Command\", f\"{action} -Name \\\"{interface_name}\\\" -Confirm:$false\"], capture_output=True, text=True)\n",
    "    state = \"有効\" if enable else \"無効\"\n",
    "    print(f\"{interface_name}を{state}にしました。\")\n",
    "    \n",
    "    # ログファイルにインターフェースの切り替え履歴を記録\n",
    "    log_message = f\"{datetime.datetime.now().strftime('%Y-%m-%d %H:%M:%S')}: {interface_name}を{state}にしました。\\n\"\n",
    "    with open(\"C:\\\\Users\\\\100ca\\\\Documents\\\\PyCode\\\\internet\\\\log\\\\change_log.txt\", \"a\", encoding='utf-8') as log_file:\n",
    "        log_file.write(log_message)\n",
    "\n",
    "def measure_speed(interface_name):\n",
    "    \"\"\"\n",
    "    指定されたイーサネットインターフェースのインターネット速度（ダウンロードとアップロード）を測定します。\n",
    "    \"\"\"\n",
    "    st = speedtest.Speedtest()\n",
    "    st.download()\n",
    "    st.upload()\n",
    "    download_speed = round(st.results.dict()['download'] / 1_000_000, 1)\n",
    "    upload_speed = round(st.results.dict()['upload'] / 1_000_000, 1)\n",
    "    print(f\"ダウンロード速度: {download_speed} Mbps, アップロード速度: {upload_speed} Mbps\")\n",
    "    return download_speed, upload_speed\n",
    "\n",
    "def log_results(interface_name, download_speed, upload_speed):\n",
    "    \"\"\"\n",
    "    インターネット速度の測定結果をログファイルとCSVファイルに記録します。\n",
    "    \"\"\"\n",
    "    timestamp = datetime.datetime.now().strftime(\"%Y-%m-%d %H:%M:%S\")\n",
    "    log_message = f\"{timestamp}: {interface_name}に更新しました。ダウンロード速度: {download_speed} Mbps, アップロード速度: {upload_speed} Mbps\\n\"\n",
    "    print(log_message)\n",
    "    \n",
    "    log_file_path = \"C:\\\\Users\\\\100ca\\\\Documents\\\\PyCode\\\\internet\\\\log\\\\change_log.txt\"\n",
    "    csv_file_path = \"C:\\\\Users\\\\100ca\\\\Documents\\\\PyCode\\\\internet\\\\log\\\\log.csv\"\n",
    "    \n",
    "    with open(log_file_path, \"a\", encoding='utf-8') as log_file:\n",
    "        log_file.write(log_message)\n",
    "    \n",
    "    with open(csv_file_path, mode='a', newline='', encoding='utf-8') as file:\n",
    "        writer = csv.writer(file)\n",
    "        writer.writerow([timestamp, interface_name, download_speed, upload_speed])\n",
    "\n",
    "def main():\n",
    "    \"\"\"\n",
    "    メイン関数では、以下のステップを実行します。\n",
    "    1. すべてのイーサネットインターフェースを取得します。\n",
    "    2. 取得したインターフェースを一時的に無効にします。\n",
    "    3. 各インターフェースを順番に有効にし、インターネット速度を測定します。\n",
    "    4. 測定結果をログに記録します。\n",
    "    5. 最後に、すべてのインターフェースを再度有効にします。\n",
    "    \"\"\"\n",
    "    interfaces = get_ethernet_interfaces()\n",
    "    print(\"利用可能なイーサネットインターフェース:\", interfaces)\n",
    "\n",
    "#    for interface in interfaces:\n",
    "#        switch_ethernet_interface(interface, enable=False)\n",
    "    \n",
    "    for interface in interfaces:\n",
    "        switch_ethernet_interface(interface, enable=True)\n",
    "        print(\"10秒間停止しています...\")\n",
    "        time.sleep(10)  \n",
    "        print(\"測定中\")\n",
    "        download_speed, upload_speed = measure_speed(interface)\n",
    "        log_results(interface, download_speed, upload_speed)\n",
    "        switch_ethernet_interface(interface, enable=False)\n",
    "    \n",
    "    # 最後にすべてのインターフェースを再度有効にする\n",
    "    for interface in interfaces:\n",
    "        switch_ethernet_interface(interface, enable=True)\n",
    "\n",
    "if __name__ == \"__main__\":\n",
    "    main()"
   ]
  },
  {
   "cell_type": "markdown",
   "metadata": {},
   "source": [
    "# 最速のやつに切り替える（上手くいっていない）"
   ]
  },
  {
   "cell_type": "code",
   "execution_count": 32,
   "metadata": {},
   "outputs": [],
   "source": [
    "def update_main_ethernet(interfaces):\n",
    "    import csv\n",
    "    from collections import defaultdict\n",
    "    import subprocess\n",
    "\n",
    "    # CSVファイルから速度測定結果を読み込み、インターフェースごとに速度を格納\n",
    "    speed_results = defaultdict(list)\n",
    "    with open(\"C:\\\\Users\\\\100ca\\\\Documents\\\\PyCode\\\\internet\\\\log\\\\log.csv\", mode='r', encoding='cp932', errors='ignore') as file:\n",
    "        reader = csv.DictReader(file)\n",
    "        for row in reader:\n",
    "            interface_name = row['EthernetName']\n",
    "            download_speed = 0\n",
    "            upload_speed = 0\n",
    "            if row['Download'] is not None and row['Download'].replace('.', '', 1).isdigit():\n",
    "                download_speed = float(row['Download'])\n",
    "            if row['Upload'] is not None and row['Upload'].replace('.', '', 1).isdigit():\n",
    "                upload_speed = float(row['Upload'])\n",
    "            speed_results[interface_name].append((download_speed, upload_speed))\n",
    "\n",
    "    # 各インターフェースの最新1件の速度測定結果を用いて平均速度を計算\n",
    "    average_speeds = {}\n",
    "    for interface, speeds in speed_results.items():\n",
    "        recent_speeds = speeds[-3:] if len(speeds) > 3 else speeds\n",
    "        average_download_speed = sum(download for download, _ in recent_speeds) / len(recent_speeds)\n",
    "        average_speeds[interface] = average_download_speed\n",
    "#print results\n",
    "\n",
    "    # 最速のインターフェースを特定\n",
    "    fastest_interface = max(average_speeds, key=average_speeds.get)\n",
    "\n",
    "    print(f\"最速のインターフェースは '{fastest_interface}' です。このインターフェースをアクティブにします。\")\n",
    "    # 最速のインターフェースをアクティブにする\n",
    "    subprocess.run([\"powershell\", \"-Command\", f\"Enable-NetAdapter -Name '{fastest_interface}'\"], capture_output=True)"
   ]
  },
  {
   "cell_type": "code",
   "execution_count": 33,
   "metadata": {},
   "outputs": [
    {
     "name": "stdout",
     "output_type": "stream",
     "text": [
      "最速のインターフェースは 'hotel' です。このインターフェースをアクティブにします。\n"
     ]
    }
   ],
   "source": [
    "interfaces = get_ethernet_interfaces()\n",
    "update_main_ethernet(interfaces)"
   ]
  },
  {
   "cell_type": "code",
   "execution_count": null,
   "metadata": {},
   "outputs": [],
   "source": []
  }
 ],
 "metadata": {
  "kernelspec": {
   "display_name": "base",
   "language": "python",
   "name": "python3"
  },
  "language_info": {
   "codemirror_mode": {
    "name": "ipython",
    "version": 3
   },
   "file_extension": ".py",
   "mimetype": "text/x-python",
   "name": "python",
   "nbconvert_exporter": "python",
   "pygments_lexer": "ipython3",
   "version": "3.11.5"
  }
 },
 "nbformat": 4,
 "nbformat_minor": 2
}
